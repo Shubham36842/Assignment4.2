{
 "cells": [
  {
   "cell_type": "raw",
   "id": "87c85306-4b89-4e3f-b796-4cdf02c0d16d",
   "metadata": {},
   "source": [
    "Q1. Explain Class and Object with respect to Object-Oriented Programming. Give a suitable example."
   ]
  },
  {
   "cell_type": "raw",
   "id": "fb41c149-0ba2-4aff-bf71-ea59d27b95b9",
   "metadata": {},
   "source": [
    "Ans:Class- A class is a collection of objects. It contain data menmber and member function.\n",
    "           Class provide a structure to a programming.\n",
    "           Example: fruit can be a name of class containing different type of fruits\n",
    "    \n",
    "    Object- an object ia a instance of a class.objects are real world entity\n",
    "            Example:names of different fruits are object of a fruit class"
   ]
  },
  {
   "cell_type": "code",
   "execution_count": 5,
   "id": "e6e72b98-9b5e-4c27-92d9-53cd284dfb66",
   "metadata": {},
   "outputs": [],
   "source": [
    "class fruit:\n",
    "    def __init__(self,fruit_name):\n",
    "        self.fruit_name=fruit_name\n",
    "    def display(self):\n",
    "        print(self.fruit_name+\" is a object of fruit class\")"
   ]
  },
  {
   "cell_type": "code",
   "execution_count": 6,
   "id": "e71d35d4-2c65-45ce-9e40-c0dc4a2e3d6d",
   "metadata": {},
   "outputs": [
    {
     "name": "stdout",
     "output_type": "stream",
     "text": [
      "banana is a object of fruit class\n"
     ]
    }
   ],
   "source": [
    "banana=fruit('banana')\n",
    "banana.display()"
   ]
  },
  {
   "cell_type": "raw",
   "id": "d36a410e-0052-4d72-9285-ef46e5237a18",
   "metadata": {},
   "source": [
    "Q2. Name the four pillars of OOPs."
   ]
  },
  {
   "cell_type": "raw",
   "id": "a09a45b9-df0f-4314-8c0e-535c4db702a0",
   "metadata": {},
   "source": [
    "Ans:Abstraction-Abstraction means displaying only basic information and hiding the details.                   Data abstraction refers to providing only necessary information about the                     data to the outside world, hiding the background info or implementation.\n",
    "\n",
    "    Encapsulation-Encapsulation is defined as wrapping up of data and information under a                       single unit. In object-oriented programming, Encapsulation is defined as                     binding together the data and the functions that manipulate them.\n",
    "    \n",
    "    Inheritance-Inheritance is the process in which two classes have a relationship with each                 other, and objects of one class acquire properties and features of the other                 class. The class which inherits the features is known as the child class\n",
    "    \n",
    "    polymorphism-The word polymorphism means having many forms. It is the ability to take                      more than one form. It is a feature that provides a function or an operator                  with more than one definition."
   ]
  },
  {
   "cell_type": "raw",
   "id": "c1324c41-19fb-48c4-916c-35ec6307354a",
   "metadata": {},
   "source": [
    "Q3. Explain why the __init__() function is used. Give a suitable example."
   ]
  },
  {
   "cell_type": "raw",
   "id": "da6ef1f2-5753-4155-894c-7635d0099fcf",
   "metadata": {},
   "source": [
    "Ans: __init__() function is a constructor method in available in python.This method is used        in class to get arguments which passed during object creation."
   ]
  },
  {
   "cell_type": "code",
   "execution_count": 7,
   "id": "ffb6e8f3-af7a-439f-847e-12ed8a2a5a54",
   "metadata": {},
   "outputs": [],
   "source": [
    "class area:\n",
    "    def __init__(self,length,breath):\n",
    "        self.length=length\n",
    "        self.breath=breath\n",
    "    def get_area(self):\n",
    "        return self.length*self.breath"
   ]
  },
  {
   "cell_type": "code",
   "execution_count": 9,
   "id": "e859a151-56ae-4b3e-844a-39750b32e5f3",
   "metadata": {},
   "outputs": [
    {
     "data": {
      "text/plain": [
       "150"
      ]
     },
     "execution_count": 9,
     "metadata": {},
     "output_type": "execute_result"
    }
   ],
   "source": [
    "rect=area(10,15)\n",
    "rect.get_area()"
   ]
  },
  {
   "cell_type": "raw",
   "id": "4d3e04fa-16ec-4252-90fe-e8443c16e608",
   "metadata": {},
   "source": [
    "Q4. Why self is used in OOPs?"
   ]
  },
  {
   "cell_type": "raw",
   "id": "0d03ebb3-18b0-4575-90ce-5e01aa575f98",
   "metadata": {},
   "source": [
    "Ans: Self is the name of a pointer that used to bind varible to a class.Self is passed as a        argument to constructor method that is __init__().Self is not a reserved keyword in          python"
   ]
  },
  {
   "cell_type": "raw",
   "id": "2d3c3448-620a-45e8-9de4-20574400c6ce",
   "metadata": {},
   "source": [
    "Q5. What is inheritance? Give an example for each type of inheritance."
   ]
  },
  {
   "cell_type": "raw",
   "id": "bb6e7fca-775e-45fc-a4ee-c7f894d9a25f",
   "metadata": {},
   "source": [
    "Ans:Inheritance is the process in which two classes have a relationship with each  other, and     objects of one class acquire properties and features of the other class. The class which     inherits the features is known as the child class and the other class is called parent       class.\n",
    "\n",
    "    1.single inheritance\n",
    "    2.multiple inheritance\n",
    "    3.multilevel inheritance\n",
    "    4.Heirarchy inheritance\n",
    "    5.hybrid inheritance"
   ]
  },
  {
   "cell_type": "code",
   "execution_count": 10,
   "id": "bb0cf399-f77a-4c4a-a2f3-a0c443fbf6fe",
   "metadata": {},
   "outputs": [
    {
     "name": "stdout",
     "output_type": "stream",
     "text": [
      "This function is in parent class.\n",
      "This function is in child class.\n"
     ]
    }
   ],
   "source": [
    "# Python program to demonstrate\n",
    "# single inheritance\n",
    "\n",
    "# Base class\n",
    "class Parent:\n",
    "\tdef func1(self):\n",
    "\t\tprint(\"This function is in parent class.\")\n",
    "\n",
    "# Derived class\n",
    "\n",
    "\n",
    "class Child(Parent):\n",
    "\tdef func2(self):\n",
    "\t\tprint(\"This function is in child class.\")\n",
    "\n",
    "\n",
    "# Driver's code\n",
    "object = Child()\n",
    "object.func1()\n",
    "object.func2()\n"
   ]
  },
  {
   "cell_type": "code",
   "execution_count": 11,
   "id": "2ba33885-dc45-4f55-a351-b5495d4e978c",
   "metadata": {},
   "outputs": [
    {
     "name": "stdout",
     "output_type": "stream",
     "text": [
      "Father : RAM\n",
      "Mother : SITA\n"
     ]
    }
   ],
   "source": [
    "# Python program to demonstrate\n",
    "# multiple inheritance\n",
    "\n",
    "# Base class1\n",
    "class Mother:\n",
    "\tmothername = \"\"\n",
    "\n",
    "\tdef mother(self):\n",
    "\t\tprint(self.mothername)\n",
    "\n",
    "# Base class2\n",
    "\n",
    "\n",
    "class Father:\n",
    "\tfathername = \"\"\n",
    "\n",
    "\tdef father(self):\n",
    "\t\tprint(self.fathername)\n",
    "\n",
    "# Derived class\n",
    "\n",
    "\n",
    "class Son(Mother, Father):\n",
    "\tdef parents(self):\n",
    "\t\tprint(\"Father :\", self.fathername)\n",
    "\t\tprint(\"Mother :\", self.mothername)\n",
    "\n",
    "\n",
    "# Driver's code\n",
    "s1 = Son()\n",
    "s1.fathername = \"RAM\"\n",
    "s1.mothername = \"SITA\"\n",
    "s1.parents()\n"
   ]
  },
  {
   "cell_type": "code",
   "execution_count": null,
   "id": "a2c04c7b-b284-4872-b1b7-fb10e13c6287",
   "metadata": {},
   "outputs": [],
   "source": [
    "# Python program to demonstrate\n",
    "# multilevel inheritance\n",
    "\n",
    "# Base class\n",
    "\n",
    "\n",
    "class Grandfather:\n",
    "\n",
    "\tdef __init__(self, grandfathername):\n",
    "\t\tself.grandfathername = grandfathername\n",
    "\n",
    "# Intermediate class\n",
    "\n",
    "\n",
    "class Father(Grandfather):\n",
    "\tdef __init__(self, fathername, grandfathername):\n",
    "\t\tself.fathername = fathername\n",
    "\n",
    "\t\t# invoking constructor of Grandfather class\n",
    "\t\tGrandfather.__init__(self, grandfathername)\n",
    "\n",
    "# Derived class\n",
    "\n",
    "\n",
    "class Son(Father):\n",
    "\tdef __init__(self, sonname, fathername, grandfathername):\n",
    "\t\tself.sonname = sonname\n",
    "\n",
    "\t\t# invoking constructor of Father class\n",
    "\t\tFather.__init__(self, fathername, grandfathername)\n",
    "\n",
    "\tdef print_name(self):\n",
    "\t\tprint('Grandfather name :', self.grandfathername)\n",
    "\t\tprint(\"Father name :\", self.fathername)\n",
    "\t\tprint(\"Son name :\", self.sonname)\n",
    "\n",
    "\n",
    "# Driver code\n",
    "s1 = Son('Prince', 'Rampal', 'Lal mani')\n",
    "print(s1.grandfathername)\n",
    "s1.print_name()\n"
   ]
  }
 ],
 "metadata": {
  "kernelspec": {
   "display_name": "Python 3 (ipykernel)",
   "language": "python",
   "name": "python3"
  },
  "language_info": {
   "codemirror_mode": {
    "name": "ipython",
    "version": 3
   },
   "file_extension": ".py",
   "mimetype": "text/x-python",
   "name": "python",
   "nbconvert_exporter": "python",
   "pygments_lexer": "ipython3",
   "version": "3.10.8"
  }
 },
 "nbformat": 4,
 "nbformat_minor": 5
}
